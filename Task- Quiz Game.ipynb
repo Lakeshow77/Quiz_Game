{
 "cells": [
  {
   "cell_type": "code",
   "execution_count": null,
   "id": "475e7092-cfa3-4538-89aa-dcdc45218444",
   "metadata": {},
   "outputs": [],
   "source": []
  },
  {
   "cell_type": "markdown",
   "id": "f04759e5-08a0-4ed7-b681-02b89c803e4d",
   "metadata": {},
   "source": [
    "class QuizGame:\n",
    "    def __init__(self):\n",
    "        self.score = 0\n",
    "        self.questions = [\n",
    "            {\n",
    "                \"question\": \"What is the capital of France?\",\n",
    "                \"options\": [\"Berlin\", \"Madrid\", \"Paris\", \"Rome\"],\n",
    "                \"answer\": 2,\n",
    "                \"branch\": {\n",
    "                    2: \"correct_path\",\n",
    "                    \"default\": \"wrong_path\"\n",
    "                }\n",
    "            },\n",
    "            {\n",
    "                \"question\": \"Which programming language is known for data science?\",\n",
    "                \"options\": [\"Python\", \"Java\", \"C++\", \"Ruby\"],\n",
    "                \"answer\": 0,\n",
    "                \"branch\": {\n",
    "                    0: \"correct_path\",\n",
    "                    \"default\": \"wrong_path\"\n",
    "                }\n",
    "            },\n",
    "            {\n",
    "                \"question\": \"What is 5 + 7?\",\n",
    "                \"options\": [\"10\", \"11\", \"12\", \"13\"],\n",
    "                \"answer\": 2,\n",
    "                \"branch\": {\n",
    "                    2: \"correct_path\",\n",
    "                    \"default\": \"wrong_path\"\n",
    "                }\n",
    "            }\n",
    "        ]\n",
    "\n",
    "    def ask_question(self, question_data):\n",
    "        print(\"\\n\" + question_data[\"question\"])\n",
    "        for i, option in enumerate(question_data[\"options\"]):\n",
    "            print(f\"{i}. {option}\")\n",
    "        \n",
    "        while True:\n",
    "            try:\n",
    "                user_input = int(input(\"Your choice: \"))\n",
    "                if 0 <= user_input < len(question_data[\"options\"]):\n",
    "                    return user_input\n",
    "                else:\n",
    "                    print(\"Invalid choice. Try again.\")\n",
    "            except ValueError:\n",
    "                print(\"Please enter a number.\")\n",
    "\n",
    "    def correct_path(self):\n",
    "        print(\"✅ Correct! +10 points\")\n",
    "        self.score += 10\n",
    "\n",
    "    def wrong_path(self):\n",
    "        print(\"❌ Incorrect. No points awarded.\")\n",
    "\n",
    "    def play(self):\n",
    "        print(\"Welcome to the Quiz Game! 🎉\")\n",
    "        for question_data in self.questions:\n",
    "            user_choice = self.ask_question(question_data)\n",
    "            if user_choice == question_data[\"answer\"]:\n",
    "                getattr(self, question_data[\"branch\"][user_choice])()\n",
    "            else:\n",
    "                getattr(self, question_data[\"branch\"][\"default\"])()\n",
    "\n",
    "        print(f\"\\nGame Over! Your final score is: {self.score}\")\n",
    "\n",
    "       # Ask user if they want to restart\n",
    "        restart = input(\"\\nDo you want to play again? (yes/no): \").strip().lower()\n",
    "        if restart != \"yes\":\n",
    "            print(\"Thanks for playing! Goodbye! 👋\")\n",
    "            break  # Exit the game loop\n",
    "\n",
    "\n",
    "\n",
    "if __name__ == \"__main__\":\n",
    "    game = QuizGame()\n",
    "    game.play()\n"
   ]
  },
  {
   "cell_type": "code",
   "execution_count": null,
   "id": "6269deef-76cd-4474-93ad-4fa98237fffd",
   "metadata": {},
   "outputs": [],
   "source": []
  },
  {
   "cell_type": "code",
   "execution_count": null,
   "id": "984cdd1a-268a-4b9f-8e7b-5d0b9e0c7494",
   "metadata": {},
   "outputs": [
    {
     "name": "stdout",
     "output_type": "stream",
     "text": [
      "\n",
      "Welcome to the Quiz Game! 🎉\n",
      "\n",
      "What is the capital of France?\n",
      "0. Berlin\n",
      "1. Madrid\n",
      "2. Paris\n",
      "3. Rome\n"
     ]
    },
    {
     "name": "stdin",
     "output_type": "stream",
     "text": [
      "Your choice:  2\n"
     ]
    },
    {
     "name": "stdout",
     "output_type": "stream",
     "text": [
      "✅ Correct! +10 points\n",
      "\n",
      "Which programming language is known for data science?\n",
      "0. Python\n",
      "1. Java\n",
      "2. C++\n",
      "3. Ruby\n"
     ]
    },
    {
     "name": "stdin",
     "output_type": "stream",
     "text": [
      "Your choice:  0\n"
     ]
    },
    {
     "name": "stdout",
     "output_type": "stream",
     "text": [
      "✅ Correct! +10 points\n",
      "\n",
      "What is 5 + 7?\n",
      "0. 10\n",
      "1. 11\n",
      "2. 12\n",
      "3. 13\n"
     ]
    },
    {
     "name": "stdin",
     "output_type": "stream",
     "text": [
      "Your choice:  2\n"
     ]
    },
    {
     "name": "stdout",
     "output_type": "stream",
     "text": [
      "✅ Correct! +10 points\n",
      "\n",
      "Game Over! Your final score is: 30\n"
     ]
    },
    {
     "name": "stdin",
     "output_type": "stream",
     "text": [
      "\n",
      "Do you want to play again? (yes/no):  yes\n"
     ]
    },
    {
     "name": "stdout",
     "output_type": "stream",
     "text": [
      "\n",
      "Welcome to the Quiz Game! 🎉\n",
      "\n",
      "What is the capital of France?\n",
      "0. Berlin\n",
      "1. Madrid\n",
      "2. Paris\n",
      "3. Rome\n"
     ]
    }
   ],
   "source": [
    "class QuizGame:\n",
    "    def __init__(self):\n",
    "        self.score = 0\n",
    "        self.questions = [\n",
    "            {\n",
    "                \"question\": \"What is the capital of France?\",\n",
    "                \"options\": [\"Berlin\", \"Madrid\", \"Paris\", \"Rome\"],\n",
    "                \"answer\": 2\n",
    "            },\n",
    "            {\n",
    "                \"question\": \"Which programming language is known for data science?\",\n",
    "                \"options\": [\"Python\", \"Java\", \"C++\", \"Ruby\"],\n",
    "                \"answer\": 0\n",
    "            },\n",
    "            {\n",
    "                \"question\": \"What is 5 + 7?\",\n",
    "                \"options\": [\"10\", \"11\", \"12\", \"13\"],\n",
    "                \"answer\": 2\n",
    "            },\n",
    "            {\n",
    "                \"question\": \"Who is the president of Nigeria?\",\n",
    "                \"options\": [\"Bukola Saraki\", \"Bola Ahmed Tinubu\", \"Godswill Akpabio\", \"Nyesom Wike\"],\n",
    "                \"answer\": 1\n",
    "            },\n",
    "            {\n",
    "                \"question\": \"Who is the most winner of Ballon D'or?\",\n",
    "                \"options\": [\"Zinedine Zidae\", \"Maradonna\", \"C.Ronaldo\", \"Messi\"],\n",
    "                \"answer\": 3\n",
    "            }\n",
    "        ]\n",
    "\n",
    "    def ask_question(self, question_data):\n",
    "        print(\"\\n\" + question_data[\"question\"])\n",
    "        for i, option in enumerate(question_data[\"options\"]):\n",
    "            print(f\"{i}. {option}\")\n",
    "        \n",
    "        while True:\n",
    "            try:\n",
    "                user_input = int(input(\"Your choice: \"))\n",
    "                if 0 <= user_input < len(question_data[\"options\"]):\n",
    "                    return user_input\n",
    "                else:\n",
    "                    print(\"Invalid choice. Try again.\")\n",
    "            except ValueError:\n",
    "                print(\"Please enter a number.\")\n",
    "\n",
    "    def correct_answer(self):\n",
    "        print(\"✅ Correct! +10 points\")\n",
    "        self.score += 10\n",
    "\n",
    "    def wrong_answer(self):\n",
    "        print(\"❌ Incorrect. No points awarded.\")\n",
    "\n",
    "    def play(self):\n",
    "        while True:\n",
    "            self.score = 0  # Reset score for a new game\n",
    "            print(\"\\nWelcome to the Quiz Game! 🎉\")\n",
    "\n",
    "            for question_data in self.questions:\n",
    "                user_choice = self.ask_question(question_data)\n",
    "                if user_choice == question_data[\"answer\"]:\n",
    "                    self.correct_answer()\n",
    "                else:\n",
    "                    self.wrong_answer()\n",
    "\n",
    "            print(f\"\\nGame Over! Your final score is: {self.score}\")\n",
    "\n",
    "            # Ask user if they want to restart\n",
    "            restart = input(\"\\nDo you want to play again? (yes/no): \").strip().lower()\n",
    "            if restart != \"yes\":\n",
    "                print(\"Thanks for playing! Goodbye! 👋\")\n",
    "                break  # Exit the game loop\n",
    "\n",
    "if __name__ == \"__main__\":\n",
    "    game = QuizGame()\n",
    "    game.play()\n"
   ]
  },
  {
   "cell_type": "code",
   "execution_count": null,
   "id": "6baa74a1-ac74-419f-af34-a9c5e143fabf",
   "metadata": {},
   "outputs": [],
   "source": [
    "1"
   ]
  },
  {
   "cell_type": "code",
   "execution_count": null,
   "id": "ed149de9-879e-4231-8826-8e87b948a85d",
   "metadata": {},
   "outputs": [],
   "source": []
  }
 ],
 "metadata": {
  "kernelspec": {
   "display_name": "Python 3 (ipykernel)",
   "language": "python",
   "name": "python3"
  },
  "language_info": {
   "codemirror_mode": {
    "name": "ipython",
    "version": 3
   },
   "file_extension": ".py",
   "mimetype": "text/x-python",
   "name": "python",
   "nbconvert_exporter": "python",
   "pygments_lexer": "ipython3",
   "version": "3.11.7"
  }
 },
 "nbformat": 4,
 "nbformat_minor": 5
}
