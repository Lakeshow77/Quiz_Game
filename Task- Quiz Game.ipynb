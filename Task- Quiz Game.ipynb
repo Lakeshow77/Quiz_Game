class QuizGame:
    def __init__(self):
        self.score = 0
        self.questions = [
            {
                "question": "What is the capital of France?",
                "options": ["Berlin", "Madrid", "Paris", "Rome"],
                "answer": 2
            },
            {
                "question": "Which programming language is known for data science?",
                "options": ["Python", "Java", "C++", "Ruby"],
                "answer": 0
            },
            {
                "question": "What is 5 + 7?",
                "options": ["10", "11", "12", "13"],
                "answer": 2
            },
            {
                "question": "Who is the president of Nigeria?",
                "options": ["Bukola Saraki", "Bola Ahmed Tinubu", "Godswill Akpabio", "Nyesom Wike"],
                "answer": 1
            },
            {
                "question": "Who is the most winner of Ballon D'or?",
                "options": ["Zinedine Zidae", "Maradonna", "C.Ronaldo", "Messi"],
                "answer": 3
            }
        ]

    def ask_question(self, question_data):
        print("\n" + question_data["question"])
        for i, option in enumerate(question_data["options"]):
            print(f"{i}. {option}")
        
        while True:
            try:
                user_input = int(input("Your choice: "))
                if 0 <= user_input < len(question_data["options"]):
                    return user_input
                else:
                    print("Invalid choice. Try again.")
            except ValueError:
                print("Please enter a number.")

    def correct_answer(self):
        print("✅ Correct! +10 points")
        self.score += 10

    def wrong_answer(self):
        print("❌ Incorrect. No points awarded.")

    def play(self):
        while True:
            self.score = 0  # Reset score for a new game
            print("\nWelcome to the Quiz Game! 🎉")

            for question_data in self.questions:
                user_choice = self.ask_question(question_data)
                if user_choice == question_data["answer"]:
                    self.correct_answer()
                else:
                    self.wrong_answer()

            print(f"\nGame Over! Your final score is: {self.score}")

            # Ask user if they want to restart
            restart = input("\nDo you want to play again? (yes/no): ").strip().lower()
            if restart != "yes":
                print("Thanks for playing! Goodbye! 👋")
                break  # Exit the game loop

if __name__ == "__main__":
    game = QuizGame()
    game.play()
